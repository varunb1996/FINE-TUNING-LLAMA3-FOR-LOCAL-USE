{
 "cells": [
  {
   "cell_type": "markdown",
   "id": "9517d26b-ab6f-43f3-a155-83625b26e97e",
   "metadata": {},
   "source": [
    "1.FINE-TUNING LLAMA 3"
   ]
  },
  {
   "cell_type": "code",
   "execution_count": null,
   "id": "9ecc1d70-0edc-4d1b-8423-ec1d532e5c15",
   "metadata": {},
   "outputs": [],
   "source": [
    "%%capture\n",
    "%pip install -U transformers \n",
    "%pip install -U datasets \n",
    "%pip install -U accelerate \n",
    "%pip install -U peft \n",
    "%pip install -U trl \n",
    "%pip install -U bitsandbytes \n",
    "%pip install -U wandb"
   ]
  },
  {
   "cell_type": "code",
   "execution_count": null,
   "id": "e697c826-e6f0-4699-92f1-1d00ffd6d6e3",
   "metadata": {},
   "outputs": [],
   "source": [
    "from transformers import (\n",
    "    AutoModelForCausalLM,\n",
    "    AutoTokenizer,\n",
    "    BitsAndBytesConfig,\n",
    "    HfArgumentParser,\n",
    "    TrainingArguments,\n",
    "    pipeline,\n",
    "    logging,\n",
    ")\n",
    "from peft import (\n",
    "    LoraConfig,\n",
    "    PeftModel,\n",
    "    prepare_model_for_kbit_training,\n",
    "    get_peft_model,\n",
    ")\n",
    "import os, torch, wandb\n",
    "from datasets import load_dataset\n",
    "from trl import SFTTrainer, setup_chat_format"
   ]
  },
  {
   "cell_type": "code",
   "execution_count": null,
   "id": "11b41019-28ce-4a77-9fd7-9b5b1a3052c0",
   "metadata": {},
   "outputs": [],
   "source": [
    "from huggingface_hub import login\n",
    "from kaggle_secrets import UserSecretsClient\n",
    "user_secrets = UserSecretsClient()\n",
    "\n",
    "hf_token = user_secrets.get_secret(\"HUGGINGFACE_TOKEN\")\n",
    "\n",
    "login(token = hf_token)\n",
    "\n",
    "wb_token = user_secrets.get_secret(\"wandb\")\n",
    "\n",
    "wandb.login(key=wb_token)\n",
    "run = wandb.init(\n",
    "    project='Fine-tune Llama 3 8B on Medical Dataset', \n",
    "    job_type=\"training\", \n",
    "    anonymous=\"allow\"\n",
    ")"
   ]
  },
  {
   "cell_type": "code",
   "execution_count": null,
   "id": "0bce85c6-6bd7-4962-8f25-77bc22ab6dfb",
   "metadata": {},
   "outputs": [],
   "source": [
    "base_model = \"/kaggle/input/llama-3/transformers/8b-chat-hf/1\"\n",
    "dataset_name = \"ruslanmv/ai-medical-chatbot\"\n",
    "new_model = \"llama-3-8b-chat-doctor\""
   ]
  },
  {
   "cell_type": "code",
   "execution_count": null,
   "id": "f50c2df6-0512-45bb-8d05-92dddc9e51d4",
   "metadata": {},
   "outputs": [],
   "source": [
    "torch_dtype = torch.float16\n",
    "attn_implementation = \"eager\""
   ]
  },
  {
   "cell_type": "markdown",
   "id": "ebc36736-c681-4a13-ad90-e780b06269f4",
   "metadata": {},
   "source": [
    "Loading the model & tokenizer"
   ]
  },
  {
   "cell_type": "code",
   "execution_count": null,
   "id": "0f3c8ff1-bcab-40e2-b1e5-bbcfebc45ca0",
   "metadata": {},
   "outputs": [],
   "source": [
    "# QLoRA config\n",
    "bnb_config = BitsAndBytesConfig(\n",
    "    load_in_4bit=True,\n",
    "    bnb_4bit_quant_type=\"nf4\",\n",
    "    bnb_4bit_compute_dtype=torch_dtype,\n",
    "    bnb_4bit_use_double_quant=True,\n",
    ")\n",
    "\n",
    "# Load model\n",
    "model = AutoModelForCausalLM.from_pretrained(\n",
    "    base_model,\n",
    "    quantization_config=bnb_config,\n",
    "    device_map=\"auto\",\n",
    "    attn_implementation=attn_implementation\n",
    ")"
   ]
  },
  {
   "cell_type": "code",
   "execution_count": null,
   "id": "404be489-1d6f-4a8b-a907-85dc1f36c014",
   "metadata": {},
   "outputs": [],
   "source": [
    "# Load tokenizer\n",
    "tokenizer = AutoTokenizer.from_pretrained(base_model)\n",
    "model, tokenizer = setup_chat_format(model, tokenizer)"
   ]
  },
  {
   "cell_type": "markdown",
   "id": "b2641ccf-aebc-4577-941c-4cb7b0bb6cfc",
   "metadata": {},
   "source": [
    "Adding the adapter to the layer"
   ]
  },
  {
   "cell_type": "code",
   "execution_count": null,
   "id": "f6474d8d-c9ea-472f-9a25-690663b8284f",
   "metadata": {},
   "outputs": [],
   "source": [
    "# LoRA config\n",
    "peft_config = LoraConfig(\n",
    "    r=16,\n",
    "    lora_alpha=32,\n",
    "    lora_dropout=0.05,\n",
    "    bias=\"none\",\n",
    "    task_type=\"CAUSAL_LM\",\n",
    "    target_modules=['up_proj', 'down_proj', 'gate_proj', 'k_proj', 'q_proj', 'v_proj', 'o_proj']\n",
    ")\n",
    "model = get_peft_model(model, peft_config)"
   ]
  },
  {
   "cell_type": "markdown",
   "id": "d00cf80e-828f-4fa7-ae0c-b110c8f78f58",
   "metadata": {},
   "source": [
    "Loading the dataset"
   ]
  },
  {
   "cell_type": "code",
   "execution_count": null,
   "id": "a016e611-85f7-4c6c-a6f7-529aff7ca056",
   "metadata": {},
   "outputs": [],
   "source": [
    "#Importing the dataset\n",
    "dataset = load_dataset(dataset_name, split=\"all\")\n",
    "dataset = dataset.shuffle(seed=65).select(range(1000)) # Only use 1000 samples for quick demo\n",
    "\n",
    "def format_chat_template(row):\n",
    "    row_json = [{\"role\": \"user\", \"content\": row[\"Patient\"]},\n",
    "               {\"role\": \"assistant\", \"content\": row[\"Doctor\"]}]\n",
    "    row[\"text\"] = tokenizer.apply_chat_template(row_json, tokenize=False)\n",
    "    return row\n",
    "\n",
    "dataset = dataset.map(\n",
    "    format_chat_template,\n",
    "    num_proc=4,\n",
    ")\n",
    "\n",
    "dataset['text'][3]"
   ]
  },
  {
   "cell_type": "code",
   "execution_count": null,
   "id": "e077b800-0e48-4f5d-959b-7bf5b1322305",
   "metadata": {},
   "outputs": [],
   "source": [
    "dataset = dataset.train_test_split(test_size=0.1)"
   ]
  },
  {
   "cell_type": "markdown",
   "id": "af9bf6d6-cd92-47ed-9285-5a43683bf63f",
   "metadata": {},
   "source": [
    "Training the model"
   ]
  },
  {
   "cell_type": "code",
   "execution_count": null,
   "id": "25ab6be8-31e0-4521-9395-046adc3019ff",
   "metadata": {},
   "outputs": [],
   "source": [
    "training_arguments = TrainingArguments(\n",
    "    output_dir=new_model,\n",
    "    per_device_train_batch_size=1,\n",
    "    per_device_eval_batch_size=1,\n",
    "    gradient_accumulation_steps=2,\n",
    "    optim=\"paged_adamw_32bit\",\n",
    "    num_train_epochs=1,\n",
    "    evaluation_strategy=\"steps\",\n",
    "    eval_steps=0.2,\n",
    "    logging_steps=1,\n",
    "    warmup_steps=10,\n",
    "    logging_strategy=\"steps\",\n",
    "    learning_rate=2e-4,\n",
    "    fp16=False,\n",
    "    bf16=False,\n",
    "    group_by_length=True,\n",
    "    report_to=\"wandb\"\n",
    ")"
   ]
  },
  {
   "cell_type": "code",
   "execution_count": null,
   "id": "df753677-9476-4c3f-a25a-02a3f7eed5a6",
   "metadata": {},
   "outputs": [],
   "source": [
    "trainer = SFTTrainer(\n",
    "    model=model,\n",
    "    train_dataset=dataset[\"train\"],\n",
    "    eval_dataset=dataset[\"test\"],\n",
    "    peft_config=peft_config,\n",
    "    max_seq_length=512,\n",
    "    dataset_text_field=\"text\",\n",
    "    tokenizer=tokenizer,\n",
    "    args=training_arguments,\n",
    "    packing= False,\n",
    ")"
   ]
  },
  {
   "cell_type": "code",
   "execution_count": null,
   "id": "a95514a6-11f4-46b1-8f25-4e210b1c4e34",
   "metadata": {},
   "outputs": [],
   "source": [
    "trainer.train()"
   ]
  },
  {
   "cell_type": "markdown",
   "id": "2bcf93e2-4ba1-405a-b07c-f6494a0e1212",
   "metadata": {},
   "source": [
    "Model evaluation"
   ]
  },
  {
   "cell_type": "code",
   "execution_count": null,
   "id": "93d219bb-3d8f-4258-85f2-311c1ff7dc5c",
   "metadata": {},
   "outputs": [],
   "source": [
    "wandb.finish()\n",
    "model.config.use_cache = True"
   ]
  },
  {
   "cell_type": "code",
   "execution_count": null,
   "id": "fcd190f2-993a-424c-acff-4728fda7ee22",
   "metadata": {},
   "outputs": [],
   "source": [
    "messages = [\n",
    "    {\n",
    "        \"role\": \"user\",\n",
    "        \"content\": \"Hello doctor, I have bad acne. How do I get rid of it?\"\n",
    "    }\n",
    "]\n",
    "\n",
    "prompt = tokenizer.apply_chat_template(messages, tokenize=False, \n",
    "                                       add_generation_prompt=True)\n",
    "\n",
    "inputs = tokenizer(prompt, return_tensors='pt', padding=True, \n",
    "                   truncation=True).to(\"cuda\")\n",
    "\n",
    "outputs = model.generate(**inputs, max_length=150, \n",
    "                         num_return_sequences=1)\n",
    "\n",
    "text = tokenizer.decode(outputs[0], skip_special_tokens=True)\n",
    "\n",
    "print(text.split(\"assistant\")[1])"
   ]
  },
  {
   "cell_type": "markdown",
   "id": "18810c33-f72c-458e-9ce7-9a9615b8c127",
   "metadata": {},
   "source": [
    "Save the model file"
   ]
  },
  {
   "cell_type": "code",
   "execution_count": null,
   "id": "63e3458a-5602-49d5-ab7c-7339de9ee724",
   "metadata": {},
   "outputs": [],
   "source": [
    "trainer.model.save_pretrained(new_model)\n",
    "trainer.model.push_to_hub(new_model, use_temp_dir=False)"
   ]
  },
  {
   "cell_type": "markdown",
   "id": "7a7521fd-5343-4b61-828c-9385be771427",
   "metadata": {},
   "source": [
    "2.MERGING LLAMA 3"
   ]
  },
  {
   "cell_type": "code",
   "execution_count": null,
   "id": "979e5b79-9dc1-40d6-9e1f-0d36c22d30be",
   "metadata": {},
   "outputs": [],
   "source": [
    "%%capture\n",
    "%pip install -U bitsandbytes\n",
    "%pip install -U transformers\n",
    "%pip install -U accelerate\n",
    "%pip install -U peft\n",
    "%pip install -U trl"
   ]
  },
  {
   "cell_type": "code",
   "execution_count": null,
   "id": "0492c840-4544-45d6-936f-0facf44d25db",
   "metadata": {},
   "outputs": [],
   "source": [
    "from huggingface_hub import login\n",
    "from kaggle_secrets import UserSecretsClient\n",
    "user_secrets = UserSecretsClient()\n",
    "\n",
    "hf_token = user_secrets.get_secret(\"HUGGINGFACE_TOKEN\")\n",
    "login(token = hf_token)"
   ]
  },
  {
   "cell_type": "code",
   "execution_count": null,
   "id": "8387f753-65b3-4334-b51b-11a4f92a610c",
   "metadata": {},
   "outputs": [],
   "source": [
    "base_model = \"/kaggle/input/llama-3/transformers/8b-chat-hf/1\"\n",
    "new_model = \"/kaggle/input/fine-tune-llama-3-8b-on-medical-dataset/llama-3-8b-chat-doctor/\""
   ]
  },
  {
   "cell_type": "markdown",
   "id": "bd2ac40d-212c-4f1f-ad06-06cf6d5feeb5",
   "metadata": {},
   "source": [
    "Merging the base model with the adapter"
   ]
  },
  {
   "cell_type": "code",
   "execution_count": null,
   "id": "1fbe483a-b3c8-493e-8b0a-aac27eec8b6e",
   "metadata": {},
   "outputs": [],
   "source": [
    "from transformers import AutoModelForCausalLM, AutoTokenizer, pipeline\n",
    "from peft import PeftModel\n",
    "import torch\n",
    "from trl import setup_chat_format\n",
    "# Reload tokenizer and model\n",
    "tokenizer = AutoTokenizer.from_pretrained(base_model)\n",
    "\n",
    "base_model_reload = AutoModelForCausalLM.from_pretrained(\n",
    "        base_model,\n",
    "        return_dict=True,\n",
    "        low_cpu_mem_usage=True,\n",
    "        torch_dtype=torch.float16,\n",
    "        device_map=\"auto\",\n",
    "        trust_remote_code=True,\n",
    ")\n",
    "\n",
    "base_model_reload, tokenizer = setup_chat_format(base_model_reload, tokenizer)\n",
    "\n",
    "# Merge adapter with base model\n",
    "model = PeftModel.from_pretrained(base_model_reload, new_model)\n",
    "\n",
    "model = model.merge_and_unload()"
   ]
  },
  {
   "cell_type": "markdown",
   "id": "f91fd578-e218-4c5c-9848-cd6c596869ca",
   "metadata": {},
   "source": [
    "Model Inference"
   ]
  },
  {
   "cell_type": "code",
   "execution_count": null,
   "id": "872371be-ba4c-4572-99f8-e3bc33339f4d",
   "metadata": {},
   "outputs": [],
   "source": [
    "messages = [{\"role\": \"user\", \"content\": \"Hello doctor, I have bad acne. How do I get rid of it?\"}]\n",
    "\n",
    "prompt = tokenizer.apply_chat_template(messages, tokenize=False, add_generation_prompt=True)\n",
    "pipe = pipeline(\n",
    "    \"text-generation\",\n",
    "    model=model,\n",
    "    tokenizer=tokenizer,\n",
    "    torch_dtype=torch.float16,\n",
    "    device_map=\"auto\",\n",
    ")\n",
    "\n",
    "outputs = pipe(prompt, max_new_tokens=120, do_sample=True, temperature=0.7, top_k=50, top_p=0.95)\n",
    "print(outputs[0][\"generated_text\"])"
   ]
  },
  {
   "cell_type": "markdown",
   "id": "32cc12fb-d660-410d-b2e6-048dc566c102",
   "metadata": {},
   "source": [
    "Saving and pushing the merged model"
   ]
  },
  {
   "cell_type": "code",
   "execution_count": null,
   "id": "3cb1d6f5-9b78-4e68-96c9-2d1ebae6cd49",
   "metadata": {},
   "outputs": [],
   "source": [
    "model.save_pretrained(\"llama-3-8b-chat-doctor\")\n",
    "tokenizer.save_pretrained(\"llama-3-8b-chat-doctor\")"
   ]
  },
  {
   "cell_type": "markdown",
   "id": "f52ec636-8a0f-415b-9d7d-9032343ac28a",
   "metadata": {},
   "source": [
    "3.CONVERTING THE MODEL TO LLAMA.CCP GGUF"
   ]
  },
  {
   "cell_type": "code",
   "execution_count": null,
   "id": "100b9bde-305d-486a-b43e-7952d3fbd799",
   "metadata": {},
   "outputs": [],
   "source": [
    "%cd /kaggle/working\n",
    "!git clone --depth=1 https://github.com/ggerganov/llama.cpp.git\n",
    "%cd /kaggle/working/llama.cpp\n",
    "!sed -i 's|MK_LDFLAGS   += -lcuda|MK_LDFLAGS   += -L/usr/local/nvidia/lib64 -lcuda|' Makefile\n",
    "!LLAMA_CUDA=1 conda run -n base make -j > /dev/null"
   ]
  },
  {
   "cell_type": "code",
   "execution_count": null,
   "id": "a1c1ee17-e8a8-4d74-845b-57e592f77ea2",
   "metadata": {},
   "outputs": [],
   "source": [
    "!python convert-hf-to-gguf.py /kaggle/input/fine-tuned-adapter-to-full-model/llama-3-8b-chat-doctor/ \\\n",
    "    --outfile /kaggle/working/llama-3-8b-chat-doctor.gguf \\\n",
    "    --outtype f16"
   ]
  },
  {
   "cell_type": "markdown",
   "id": "b8dfe264-f774-45d7-b972-5c1f0023841f",
   "metadata": {},
   "source": [
    "4.QUANTIZING THE GGUF MODEL"
   ]
  },
  {
   "cell_type": "code",
   "execution_count": null,
   "id": "400af19c-123c-49e7-9bdc-f3e35075b0c3",
   "metadata": {},
   "outputs": [],
   "source": [
    "%cd /kaggle/working\n",
    "!git clone --depth=1 https://github.com/ggerganov/llama.cpp.git\n",
    "%cd /kaggle/working/llama.cpp\n",
    "!sed -i 's|MK_LDFLAGS   += -lcuda|MK_LDFLAGS   += -L/usr/local/nvidia/lib64 -lcuda|' Makefile\n",
    "!LLAMA_CUDA=1 conda run -n base make -j > /dev/null"
   ]
  },
  {
   "cell_type": "code",
   "execution_count": null,
   "id": "eb171994-ac84-46f4-bdb4-06d88d136458",
   "metadata": {},
   "outputs": [],
   "source": [
    "%cd /kaggle/working/\n",
    "\n",
    "!./llama.cpp/llama-quantize /kaggle/input/hf-llm-to-gguf/llama-3-8b-chat-doctor.gguf llama-3-8b-chat-doctor-Q4_K_M.gguf Q4_K_M"
   ]
  },
  {
   "cell_type": "markdown",
   "id": "5e685f66-2b34-44c6-abbf-d4b4996fdc36",
   "metadata": {},
   "source": [
    "Pushing the model file to Hugging Face\n",
    "\n",
    "To push the single file to the Hugging Face Hub, we'll:\n",
    "\n",
    "Login to the Hugging Face Hub using the API key.\n",
    "Create the API object.\n",
    "Upload the file by providing the local path, repo path, repo id, and repo type"
   ]
  },
  {
   "cell_type": "code",
   "execution_count": null,
   "id": "ff418479-b402-4335-8af7-430dfd407176",
   "metadata": {},
   "outputs": [],
   "source": [
    "from huggingface_hub import login\n",
    "from kaggle_secrets import UserSecretsClient\n",
    "from huggingface_hub import HfApi\n",
    "user_secrets = UserSecretsClient()\n",
    "hf_token = user_secrets.get_secret(\"HUGGINGFACE_TOKEN\")\n",
    "login(token = hf_token)\n",
    "\n",
    "api = HfApi()\n",
    "api.upload_file(\n",
    "    path_or_fileobj=\"/kaggle/working/llama-3-8b-chat-doctor-Q4_K_M.gguf\",\n",
    "    path_in_repo=\"llama-3-8b-chat-doctor-Q4_K_M.gguf\",\n",
    "    repo_id=\"kingabzpro/llama-3-8b-chat-doctor\",\n",
    "    repo_type=\"model\",\n",
    ")"
   ]
  },
  {
   "cell_type": "markdown",
   "id": "9cc80c60-a167-48c1-b021-d43eb6974906",
   "metadata": {},
   "source": [
    "5.USING THE FINE-TUNED MODEL LOCALLY\n",
    "\n",
    "To download the model, we need to:\n",
    "\n",
    "1. Go to our Hugging Face repository.\n",
    "\n",
    "2. Click the Files tab.\n",
    "\n",
    "3. Click on the quantized model file with the GGUF extension.\n",
    "\n",
    "4. Click the download button"
   ]
  }
 ],
 "metadata": {
  "kernelspec": {
   "display_name": "Python [conda env:base] *",
   "language": "python",
   "name": "conda-base-py"
  },
  "language_info": {
   "codemirror_mode": {
    "name": "ipython",
    "version": 3
   },
   "file_extension": ".py",
   "mimetype": "text/x-python",
   "name": "python",
   "nbconvert_exporter": "python",
   "pygments_lexer": "ipython3",
   "version": "3.13.5"
  }
 },
 "nbformat": 4,
 "nbformat_minor": 5
}
